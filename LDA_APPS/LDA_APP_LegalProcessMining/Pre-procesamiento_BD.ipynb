{
 "cells": [
  {
   "cell_type": "code",
   "execution_count": null,
   "id": "09c3b5f8-b25e-4d25-a720-727356a9050e",
   "metadata": {},
   "outputs": [],
   "source": [
    "library(bupaverse)\n",
    "library(processanimateR)\n",
    "library(tidyverse)\n",
    "library(bupaR)\n",
    "library(bupaverse)\n",
    "library(processanimateR)\n",
    "library(tidyverse)\n",
    "library(bupaR)\n",
    "library(lubridate)\n",
    "library(plotly)"
   ]
  },
  {
   "cell_type": "code",
   "execution_count": null,
   "id": "7bd0fd7e-3596-471e-b828-ba940094edc1",
   "metadata": {},
   "outputs": [],
   "source": [
    "#Se toma la base de datos con casos de córdoba\n",
    "logs_causas_judiciales <- read_delim(file = './base_datos/UNZIP_Files/combined_tabla_actos_procesales_no_penales_cordoba_v2.csv.gz', delim=\",\")\n",
    "options(repr.matrix.max.cols=21,repr.matrix.max.rows=500)"
   ]
  },
  {
   "cell_type": "code",
   "execution_count": null,
   "id": "88e1cb37-1c1e-412c-b4e4-7624f75a3ce7",
   "metadata": {},
   "outputs": [],
   "source": [
    "#creamos la columna case_id\n",
    "logs_causas_judiciales$case_id = paste(logs_causas_judiciales$causa_id, logs_causas_judiciales$unidad_id, sep=\"-\")"
   ]
  },
  {
   "cell_type": "code",
   "execution_count": null,
   "id": "c23e8047-35e8-4bd8-903d-f46e54aa49a6",
   "metadata": {
    "scrolled": true
   },
   "outputs": [],
   "source": [
    "logs_causas_judiciales"
   ]
  },
  {
   "cell_type": "code",
   "execution_count": null,
   "id": "bbd1516c-e6ad-41d5-b9ec-85ba15a45744",
   "metadata": {
    "scrolled": true
   },
   "outputs": [],
   "source": [
    "#Se quiere eliminar duplicidad de la actividad Inicio Causa\n",
    "\n",
    "#1)Creamos un dataset sin la actividad\n",
    "logs_causas_judiciales %>%\n",
    "    #filter(causa_id== 186173) %>%\n",
    "    filter(acto_procesal_descripcion != 'Inicio Causa') ->df_logs_causas_judiciales  #\n",
    "df_logs_causas_judiciales\n"
   ]
  },
  {
   "cell_type": "code",
   "execution_count": null,
   "id": "c29ff435-46bd-42a0-8494-0b0a854f3b96",
   "metadata": {},
   "outputs": [],
   "source": [
    "#2)se hacen conversiones a algunas columnas\n",
    "df_logs_causas_judiciales$objeto_litigio_id = as.numeric(as.character(df_logs_causas_judiciales$objeto_litigio_id)) \n",
    "df_logs_causas_judiciales$unidad_id = as.numeric(as.character(df_logs_causas_judiciales$unidad_id)) \n",
    "df_logs_causas_judiciales$materia_estadistica <- ifelse(df_logs_causas_judiciales$materia_estadistica == \"Civil patrimonial y comercial\", \n",
    "                      \"Civil patrimonial y Comercial\", \n",
    "                      df_logs_causas_judiciales$materia_estadistica)\n",
    "df_logs_causas_judiciales$objeto_litigio_estadistico = toupper(df_logs_causas_judiciales$objeto_litigio_estadistico)"
   ]
  },
  {
   "cell_type": "code",
   "execution_count": null,
   "id": "e5e2a17e-d3fb-4b29-b3fd-b5efadee8ce8",
   "metadata": {},
   "outputs": [],
   "source": [
    "#validamos conversiones\n",
    "print(sapply(df_logs_causas_judiciales, class))"
   ]
  },
  {
   "cell_type": "code",
   "execution_count": null,
   "id": "37b1a81e-b4cf-4a4f-a067-de8c25117b19",
   "metadata": {},
   "outputs": [],
   "source": [
    "#3)creamos un dataset temporal donde sumamos la actividad Inicio Causa, una actividad por caso\n",
    "df_logs_causas_judiciales %>% \n",
    "    select(provincia_id, provincia_nombre,causa_id\n",
    "           #,materia_id,materia_descripcion\n",
    "           #  ,materia_estadistica\n",
    "           #,circunscripcion_id,circunscripcion_descripcion\n",
    "            #,unidad_id,unidad_descripcion\n",
    "            ,causa_fecha_inicio\n",
    "            #,objeto_litigio_id,objeto_litigio_descripcion,objeto_litigio_estadistico\n",
    "           #,case_id\n",
    "          ) %>%\n",
    "    distinct()%>%\n",
    "        filter(!is.na(causa_fecha_inicio))      %>%\n",
    "mutate( acto_procesal_descripcion=\"Inicio Causa\"\n",
    "       ,acto_procesal_fecha=causa_fecha_inicio\n",
    "       ,circunscripcion_id= NA,circunscripcion_descripcion=NA\n",
    "       ,unidad_id=NA,unidad_descripcion=NA\n",
    "       ,objeto_litigio_id=NA,objeto_litigio_descripcion=NA,objeto_litigio_estadistico=NA\n",
    "       ,materia_id=NA,materia_descripcion=NA,materia_estadistica=NA\n",
    "       ,estado_procesal='sd'\n",
    "       ,fecha_envio= NA  \n",
    "       ,case_id=NA\n",
    "      ) %>%\n",
    "    select(provincia_id, provincia_nombre,causa_id,materia_id,materia_descripcion\n",
    "             ,materia_estadistica,circunscripcion_id,circunscripcion_descripcion\n",
    "            ,unidad_id,unidad_descripcion,causa_fecha_inicio\n",
    "            ,objeto_litigio_id,objeto_litigio_descripcion,objeto_litigio_estadistico,acto_procesal_descripcion\n",
    "            ,acto_procesal_fecha,estado_procesal,fecha_envio,case_id\n",
    "          )->tmp"
   ]
  },
  {
   "cell_type": "code",
   "execution_count": null,
   "id": "46181655-5b22-4783-834a-755453b9a491",
   "metadata": {},
   "outputs": [],
   "source": [
    "#tmp%>% filter(causa_id=='6271838')"
   ]
  },
  {
   "cell_type": "code",
   "execution_count": null,
   "id": "093adb00-dd5e-4525-b102-3de35376640b",
   "metadata": {},
   "outputs": [],
   "source": [
    "#4) unimos ambos datasets, el que no tiene la actividad Inicio Causa y el temporal creado en el paso 3\n",
    "df_logs_causas_judiciales_output <- rbind(df_logs_causas_judiciales,tmp)\n"
   ]
  },
  {
   "cell_type": "code",
   "execution_count": null,
   "id": "6bef5094-6333-486b-8fe4-8fa8856e28eb",
   "metadata": {},
   "outputs": [],
   "source": [
    "df_logs_causas_judiciales_output #%>% filter(causa_id=='6271838' & acto_procesal_descripcion==\"Inicio Causa\") #filter(causa_id=='6271838')"
   ]
  },
  {
   "cell_type": "code",
   "execution_count": null,
   "id": "aee6d97c-5c37-4d87-be67-e84d3970d022",
   "metadata": {},
   "outputs": [],
   "source": [
    "#5) Validamos que no hay más actividades Inicio Causa duplicadas\n",
    "df_logs_causas_judiciales_output%>%\n",
    "filter(acto_procesal_descripcion==\"Inicio Causa\") %>%\n",
    " group_by(causa_id,acto_procesal_descripcion)%>%\n",
    "    #summarise(conteo = n()) -> validacion\n",
    "    count() -> validacion\n",
    "validacion %>% filter(n>1)"
   ]
  },
  {
   "cell_type": "code",
   "execution_count": null,
   "id": "201d9406-4b67-4702-8b66-e1731d14c785",
   "metadata": {},
   "outputs": [],
   "source": [
    "#6) creamos un nuevo dataset con el output previo\n",
    "#write.csv(logs_causas_judiciales,file='./base_datos/UNZIP_Files/combined_tabla_actos_procesales_no_penales_cordoba_v2_1.csv.gz',row.names=FALSE)\n",
    "write.csv(df_logs_causas_judiciales_output,file='./base_datos/UNZIP_Files/combined_tabla_actos_procesales_no_penales_cordoba_v2_2.csv.gz',row.names=FALSE)\n",
    "\n",
    "\n"
   ]
  },
  {
   "cell_type": "code",
   "execution_count": null,
   "id": "469e1c7d-47d3-4841-aa59-7c6552f3cb22",
   "metadata": {},
   "outputs": [],
   "source": [
    "#7) al dataset creado previamente lo cargamos nuevamente\n",
    "df_causas_judiciales <- df_logs_causas_judiciales_output\n",
    "    #read_delim(file = './base_datos/UNZIP_Files/combined_tabla_actos_procesales_no_penales_cordoba_v2_1.csv.gz', delim=\",\")\n",
    "    #read_delim(file = './base_datos/UNZIP_Files/combined_tabla_actos_procesales_no_penales_cordoba_v2_2.csv.gz', delim=\",\")"
   ]
  },
  {
   "cell_type": "code",
   "execution_count": null,
   "id": "3da72af9-f898-4f6b-bd4c-7d8668a6dac9",
   "metadata": {},
   "outputs": [],
   "source": [
    "#8) cargamos un segundo dataset donde está la revisión de los actos procesales, que indica cómo convertir cada acto en una actividad\n",
    "df_Revision_ActosProcesales <- \n",
    "    read_delim(file = './base_datos/UNZIP_Files/Revision_ActosProcesales.csv', delim=\",\")"
   ]
  },
  {
   "cell_type": "code",
   "execution_count": null,
   "id": "2591c079-dd40-4988-af06-b2c71726f5fc",
   "metadata": {},
   "outputs": [],
   "source": [
    "# Limpiar los datos (convertir a minúsculas y eliminar espacios)\n",
    "df_causas_judiciales$Col1_clean <- tolower(trimws(df_causas_judiciales$acto_procesal_descripcion))  # Limpiar Col1 de df1\n",
    "df_Revision_ActosProcesales$ColA_clean <- tolower(trimws(df_Revision_ActosProcesales$acto_procesal))  # Limpiar ColA de df2"
   ]
  },
  {
   "cell_type": "code",
   "execution_count": null,
   "id": "66987559-36a9-4973-8cf0-ef3e500b5847",
   "metadata": {},
   "outputs": [],
   "source": [
    "#9) hacemos un join entre ambos datasets para sumar las columnas del segundo dataset\n",
    "df_causas_judiciales_rev <- left_join(df_causas_judiciales, df_Revision_ActosProcesales, by = c(\"Col1_clean\" = \"ColA_clean\"))"
   ]
  },
  {
   "cell_type": "code",
   "execution_count": null,
   "id": "9157ca0e-d6c8-42c1-9ff0-866bee039ed6",
   "metadata": {},
   "outputs": [],
   "source": [
    "#10) guardamos el output previo en un nuevo dataset\n",
    "#write.csv(df_causas_judiciales_rev, gzfile(\"./base_datos/UNZIP_Files/combined_tabla_actos_procesales_no_penales_cordoba_v3_2.csv.gz\"), row.names = FALSE)\n",
    "write.csv(df_causas_judiciales_rev, gzfile(\"./base_datos/UNZIP_Files/combined_tabla_actos_procesales_no_penales_cordoba_v3_3.csv.gz\"), row.names = FALSE)\n",
    "\n"
   ]
  },
  {
   "cell_type": "code",
   "execution_count": null,
   "id": "abbe9f5a-a3c6-4a69-aec2-5ae1b91986e8",
   "metadata": {},
   "outputs": [],
   "source": [
    "#11) cargamos nuevamente el dataset y filtramos casos del fuero civil para armar la base de datos final q alimentara a la app\n",
    "df_causas_judiciales <- df_causas_judiciales_rev\n",
    "    #read_delim(file = './base_datos/UNZIP_Files/combined_tabla_actos_procesales_no_penales_cordoba_v3_2.csv.gz', delim=\",\")\n",
    "    #read_delim(file = './base_datos/UNZIP_Files/combined_tabla_actos_procesales_no_penales_cordoba_v3_3.csv.gz', delim=\",\")\n",
    "#df_causas_judiciales$acto_procesal_fecha <- paste0(df_causas_judiciales$acto_procesal_fecha, ' 00:00:00')\n",
    "df_causas_judiciales %>%\n",
    "    filter( materia_estadistica == 'Civil patrimonial y comercial' | materia_estadistica == 'Civil patrimonial y Comercial') -> df_causas_judiciales_v4"
   ]
  },
  {
   "cell_type": "code",
   "execution_count": null,
   "id": "68daab88-f990-47d3-9430-669eeacac141",
   "metadata": {},
   "outputs": [],
   "source": [
    "#12) se crea un nuevo data set\n",
    "#write.csv(df_causas_judiciales_v4,file='./base_datos/UNZIP_Files/combined_tabla_actos_procesales_no_penales_cordoba_v4_1.csv.gz',row.names=FALSE)\n",
    "write.csv(df_causas_judiciales_v4,file='./base_datos/UNZIP_Files/combined_tabla_actos_procesales_no_penales_cordoba_v4_1_1.csv.gz',row.names=FALSE)\n",
    "\n"
   ]
  },
  {
   "cell_type": "code",
   "execution_count": null,
   "id": "02ffcb29-4ce8-4c9f-a795-f308aaf8b62f",
   "metadata": {},
   "outputs": [],
   "source": [
    "# 12) se carga el ultimo data set creado y se suma la columna de throughput time\n",
    "df_causas_judiciales <- df_causas_judiciales_v4\n",
    "    #read_delim(file = './base_datos/UNZIP_Files/combined_tabla_actos_procesales_no_penales_cordoba_v4_1.csv.gz', delim=\",\")\n",
    "    #read_delim(file = './base_datos/UNZIP_Files/combined_tabla_actos_procesales_no_penales_cordoba_v4_1_1.csv.gz', delim=\",\")\n",
    "colnames(df_causas_judiciales)"
   ]
  },
  {
   "cell_type": "code",
   "execution_count": null,
   "id": "e1390636-c944-4756-b1cb-657977328136",
   "metadata": {},
   "outputs": [],
   "source": [
    "#transformamos el dataset en un eventlog\n",
    "df_causas_judiciales$acto_procesal_fecha <- paste0(df_causas_judiciales$acto_procesal_fecha, ' 00:00:00')\n",
    "df_causas_judiciales %>%\n",
    "    # rename timestamp variables appropriately\n",
    "    dplyr::rename(start = acto_procesal_fecha#, \n",
    "           #complete = acto_procesal_fecha\n",
    "                    ) %>%\n",
    "    # convert timestamps to \n",
    "    convert_timestamps(columns = \"start\", format = ymd_hms) %>%\n",
    "    activitylog(case_id = \"causa_id\",\n",
    "                activity_id = \"actividad\",\n",
    "                timestamps = \"start\",\n",
    "                resource_id=\"unidad_id\") -> lg_logs_causas_judiciales\n",
    "colnames(lg_logs_causas_judiciales)"
   ]
  },
  {
   "cell_type": "code",
   "execution_count": null,
   "id": "42c10539-f3cd-4606-9048-1948f68db8d1",
   "metadata": {},
   "outputs": [],
   "source": [
    "#suamos la col throughput time\n",
    "lg_logs_causas_judiciales <- data.frame(lg_logs_causas_judiciales  \n",
    "                                        %>% throughput_time(\"case\",units=\"days\") \n",
    "                                        %>%  augment(lg_logs_causas_judiciales))\n",
    "#lg_logs_causas_judiciales$throughput_time <- as.numeric(lg_logs_causas_judiciales$throughput_time)\n",
    "colnames(lg_logs_causas_judiciales)"
   ]
  },
  {
   "cell_type": "code",
   "execution_count": null,
   "id": "577c84e5-46de-4e54-b517-2a7421a8f865",
   "metadata": {},
   "outputs": [],
   "source": [
    "#validamos conversion tipo datos\n",
    "#print(sapply(lg_logs_causas_judiciales, class))"
   ]
  },
  {
   "cell_type": "code",
   "execution_count": null,
   "id": "c203c1f0-cfa5-46b3-b325-7e68b0595baa",
   "metadata": {},
   "outputs": [],
   "source": [
    "lg_logs_causas_judiciales %>% filter(causa_id=='6271838')   "
   ]
  },
  {
   "cell_type": "code",
   "execution_count": null,
   "id": "8ff75899-1b3f-4606-a951-f6201a2558d7",
   "metadata": {},
   "outputs": [],
   "source": [
    "#seleccionamos nuevamente las columnas q necesitamos para crear el dataset final\n",
    "nvo_df_causas_judiciales <- data.frame(lg_logs_causas_judiciales %>%\n",
    "    select(provincia_id, provincia_nombre,causa_id,materia_id,materia_descripcion\n",
    "             ,materia_estadistica,circunscripcion_id,circunscripcion_descripcion\n",
    "            ,unidad_id,unidad_descripcion,causa_fecha_inicio\n",
    "            ,objeto_litigio_id,objeto_litigio_descripcion,objeto_litigio_estadistico,acto_procesal_descripcion\n",
    "            ,start,estado_procesal,fecha_envio,Col1_clean,acto_procesal,actividad,throughput_time,complete,'.order'\n",
    "          ))\n",
    "colnames(nvo_df_causas_judiciales)"
   ]
  },
  {
   "cell_type": "code",
   "execution_count": null,
   "id": "ed824013-f953-4ddb-a6df-43a418c57d60",
   "metadata": {},
   "outputs": [],
   "source": [
    "nvo_df_causas_judiciales <- nvo_df_causas_judiciales%>%\n",
    "    select(provincia_id, provincia_nombre,causa_id,materia_id,materia_descripcion\n",
    "             ,materia_estadistica,circunscripcion_id,circunscripcion_descripcion\n",
    "            ,unidad_id,unidad_descripcion,causa_fecha_inicio\n",
    "            ,objeto_litigio_id,objeto_litigio_descripcion,objeto_litigio_estadistico,acto_procesal_descripcion\n",
    "            ,'acto_procesal_fecha'=start,estado_procesal,fecha_envio,Col1_clean,acto_procesal,actividad,throughput_time\n",
    "          )\n",
    "colnames(nvo_df_causas_judiciales)"
   ]
  },
  {
   "cell_type": "code",
   "execution_count": null,
   "id": "e88cae16-e34d-402a-9edf-67f8071092ae",
   "metadata": {},
   "outputs": [],
   "source": [
    "#12) se crea la BD final\n",
    "#write.csv(nvo_df_causas_judiciales,file='./base_datos/UNZIP_Files/combined_tabla_actos_procesales_no_penales_cordoba_v4_2.csv.gz',row.names=FALSE)\n",
    "write.csv(nvo_df_causas_judiciales,file='./base_datos/UNZIP_Files/combined_tabla_actos_procesales_no_penales_cordoba_v4_2_1.csv.gz',row.names=FALSE)\n",
    "\n",
    "\n"
   ]
  },
  {
   "cell_type": "code",
   "execution_count": null,
   "id": "b3931278-1d0f-4327-ba91-c0e514c2946d",
   "metadata": {},
   "outputs": [],
   "source": []
  }
 ],
 "metadata": {
  "kernelspec": {
   "display_name": "R",
   "language": "R",
   "name": "ir"
  },
  "language_info": {
   "codemirror_mode": "r",
   "file_extension": ".r",
   "mimetype": "text/x-r-source",
   "name": "R",
   "pygments_lexer": "r",
   "version": "4.3.3"
  }
 },
 "nbformat": 4,
 "nbformat_minor": 5
}
